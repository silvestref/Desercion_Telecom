{
 "cells": [
  {
   "cell_type": "markdown",
   "id": "4af303c9",
   "metadata": {},
   "source": [
    "# Análisis de datos y uso de Gradient Boosting para la predicción de clientes desertores                          "
   ]
  },
  {
   "cell_type": "markdown",
   "id": "eb8b475c",
   "metadata": {},
   "source": [
    "## Contenido"
   ]
  },
  {
   "cell_type": "markdown",
   "id": "d2792142",
   "metadata": {},
   "source": [
    "#### 1. Introducción\n",
    "\n",
    "    * Identificación del problema\n",
    "    * Los datos como alternativa de solución\n",
    "    * Objetivos\n",
    "    \n",
    "#### 2. Importación de librerías y carga de datos\n",
    "\n",
    "    \n",
    "#### 3. Exploración de los datos\n",
    "\n",
    "    * Eliminación y codificación de variables   \n",
    "    \n",
    "#### 4. Preprocesamiento de datos\n",
    "\n",
    "    * Identificación de outliers\n",
    "    * Identificación e imputación de valores faltantes\n",
    "       \n",
    "#### 5. Análisis y visualización de datos\n",
    "\n",
    "#### 6. Transformación de datos\n",
    "\n",
    "    * Rebalanceo de datos\n",
    "    * Reducción de la dimensionalidad    \n",
    "\n",
    "#### 7. Construcción y evaluación del modelo predictivo\n",
    "\n",
    "    * Elección de hiperparámetros\n",
    "    * Comparación y elección del mejor modelo\n",
    "    \n",
    "#### 8. Conclusiones"
   ]
  },
  {
   "cell_type": "markdown",
   "id": "46052e5e",
   "metadata": {},
   "source": [
    "---"
   ]
  },
  {
   "cell_type": "markdown",
   "id": "ea011ef8",
   "metadata": {},
   "source": [
    "## 1. Introducción"
   ]
  },
  {
   "cell_type": "markdown",
   "id": "360cacdc",
   "metadata": {},
   "source": [
    "#### Identificación del problema"
   ]
  },
  {
   "cell_type": "markdown",
   "id": "3b615409",
   "metadata": {},
   "source": [
    "Se identifica que la problemática a tratar es el abandono de clientes a los servicios de una empresa de telecomunicaciones, es bien sabido que esta industria posee una tasa de abandono relativamente alta, variando entre el 15 y 20%, debido a que existe una gran competitividad en el mercado, por lo tanto al momento de replantearnos cuál o cuáles pueden ser los factores definitivos que propician el abandono de los clientes nos ponemos a pensar que puede ser causado por múltiples factores, desde un mal servicio, costes muy altos para su presupuesto, o porque simplemente desean probar otras opciones (lo que como ya mencionamos, es muy normal debido a la fuerte competencia en el sector). \n",
    "Debido a todo lo anterior mencionado, las empresas buscan a toda costa retener a sus clientes, y aqui es donde surge la interrogante, ¿A que cliente es al que debo retener?. Puesto que sin un analísis de los datos es imposible saber que clientes tienen intenciones de abandonar su servicio o no. Intentar ejecutar una retención individualizada a cada uno de sus clientes no es factible debido a que estas empresas cuentan con demasiadas personas suscritas a sus servicios, por lo cual seria una gran pérdida de tiempo intentar retener a esta gran cantidad de personas, además que se superaría rápidamente el presupuesto asignado para esta labor y sin aun lograr resultados convincentes."
   ]
  },
  {
   "cell_type": "markdown",
   "id": "1400067b",
   "metadata": {},
   "source": [
    "#### Los datos como alternativa de solución"
   ]
  },
  {
   "cell_type": "markdown",
   "id": "fce91f52",
   "metadata": {},
   "source": [
    "Llegado a este punto, es necesario que la empresa utilice los datos a su favor, los vea como un activo estratégico para la resolución de problemas y toma de decisiones acertivas, que en este caso es identificar los clientes propensos a abandonar su servicio y centrar todos sus esfuerzos en intentar retenerlos, a la vez que tambien los vea como una inversión, puesto que al solventar el problema de la deserción, lograrán tener mas clientes, y por ende, aumentar sus ingresos, los cuales pueden ser usados para mantener o incrementar su posición en el mercado o en otras tareas de mayor o igual relevancia. Para lograr este objetivo, utilizaremos el análisis exploratorio de los datos para lograr responder algunas preguntas acerca del comportamiento de los clientes y su relación con el abandono de la empresa, a la vez que aprovecharemos la potencia y eficacia que nos ofrecen los algoritmos de machine learning, para que dado una serie de caracteristicas del cliente, nos de una estimación concreta acerca si en el futuro abandonará los servicios de la empresa o no."
   ]
  },
  {
   "cell_type": "markdown",
   "id": "7da32745",
   "metadata": {},
   "source": [
    "#### Objetivos"
   ]
  },
  {
   "cell_type": "markdown",
   "id": "af00d8d8",
   "metadata": {},
   "source": [
    "* Analizar los datos y encontrar patrones y comportamientos que expliquen la deserción de los clientes.\n",
    "* Construir un modelo de aprendizaje automático para la predicción de clientes desertores en la empresa.\n"
   ]
  },
  {
   "cell_type": "markdown",
   "id": "bd4ee860",
   "metadata": {},
   "source": [
    "---"
   ]
  },
  {
   "cell_type": "markdown",
   "id": "729abe3b",
   "metadata": {},
   "source": [
    "## 2. Importación de librerías y carga de datos"
   ]
  },
  {
   "cell_type": "code",
   "execution_count": 1,
   "id": "aa511b8d",
   "metadata": {},
   "outputs": [],
   "source": [
    "import pandas as pd\n",
    "import matplotlib.pyplot as plt\n",
    "import seaborn as sns\n",
    "import numpy as np\n",
    "from sklearn.preprocessing import LabelEncoder\n",
    "from sklearn.preprocessing import StandardScaler\n",
    "from sklearn.decomposition import PCA\n",
    "from sklearn.impute import SimpleImputer\n",
    "from sklearn.experimental import enable_iterative_imputer\n",
    "from sklearn.impute import IterativeImputer\n",
    "from sklearn.ensemble import RandomForestRegressor\n",
    "from imblearn.over_sampling import SMOTENC\n",
    "import xgboost as xgb\n",
    "from xgboost import XGBClassifier\n",
    "import optuna  \n",
    "from sklearn.model_selection import GridSearchCV\n",
    "from sklearn.metrics import confusion_matrix, f1_score, accuracy_score, classification_report\n",
    "from sklearn.metrics import roc_auc_score\n",
    "from sklearn.model_selection import cross_val_score\n",
    "from sklearn.metrics import roc_curve\n",
    "import joblib\n",
    "import warnings\n",
    "warnings.filterwarnings('ignore')"
   ]
  },
  {
   "cell_type": "markdown",
   "id": "3028d992",
   "metadata": {},
   "source": [
    "El conjunto de datos con el que vamos a tratar almacena características de 7043 clientes a los que una empresa de telecomunicaciones proporcionó servicios de telefonía e internet en el tercer trimestre del año, e indica si estos al final de este periodo de tiempo desertaron de sus servicios o no ."
   ]
  },
  {
   "cell_type": "code",
   "execution_count": 2,
   "id": "b69bbdc3",
   "metadata": {},
   "outputs": [],
   "source": [
    "data = pd.read_csv(\"Telco_Churn.csv\")"
   ]
  },
  {
   "cell_type": "markdown",
   "id": "7f00abc1",
   "metadata": {},
   "source": [
    "---"
   ]
  },
  {
   "cell_type": "markdown",
   "id": "7a41d5ab",
   "metadata": {},
   "source": [
    "## 3. Exploración de los datos"
   ]
  },
  {
   "cell_type": "code",
   "execution_count": 3,
   "id": "f2da0ec9",
   "metadata": {},
   "outputs": [
    {
     "data": {
      "text/html": [
       "<div>\n",
       "<style scoped>\n",
       "    .dataframe tbody tr th:only-of-type {\n",
       "        vertical-align: middle;\n",
       "    }\n",
       "\n",
       "    .dataframe tbody tr th {\n",
       "        vertical-align: top;\n",
       "    }\n",
       "\n",
       "    .dataframe thead th {\n",
       "        text-align: right;\n",
       "    }\n",
       "</style>\n",
       "<table border=\"1\" class=\"dataframe\">\n",
       "  <thead>\n",
       "    <tr style=\"text-align: right;\">\n",
       "      <th></th>\n",
       "      <th>customerID</th>\n",
       "      <th>gender</th>\n",
       "      <th>SeniorCitizen</th>\n",
       "      <th>Partner</th>\n",
       "      <th>Dependents</th>\n",
       "      <th>tenure</th>\n",
       "      <th>PhoneService</th>\n",
       "      <th>MultipleLines</th>\n",
       "      <th>InternetService</th>\n",
       "      <th>OnlineSecurity</th>\n",
       "      <th>...</th>\n",
       "      <th>DeviceProtection</th>\n",
       "      <th>TechSupport</th>\n",
       "      <th>StreamingTV</th>\n",
       "      <th>StreamingMovies</th>\n",
       "      <th>Contract</th>\n",
       "      <th>PaperlessBilling</th>\n",
       "      <th>PaymentMethod</th>\n",
       "      <th>MonthlyCharges</th>\n",
       "      <th>TotalCharges</th>\n",
       "      <th>Churn</th>\n",
       "    </tr>\n",
       "  </thead>\n",
       "  <tbody>\n",
       "    <tr>\n",
       "      <th>0</th>\n",
       "      <td>7590-VHVEG</td>\n",
       "      <td>Female</td>\n",
       "      <td>0.0</td>\n",
       "      <td>Yes</td>\n",
       "      <td>No</td>\n",
       "      <td>1.0</td>\n",
       "      <td>No</td>\n",
       "      <td>NaN</td>\n",
       "      <td>DSL</td>\n",
       "      <td>No</td>\n",
       "      <td>...</td>\n",
       "      <td>No</td>\n",
       "      <td>No</td>\n",
       "      <td>No</td>\n",
       "      <td>No</td>\n",
       "      <td>Month-to-month</td>\n",
       "      <td>Yes</td>\n",
       "      <td>Electronic check</td>\n",
       "      <td>29.85</td>\n",
       "      <td>29.85</td>\n",
       "      <td>No</td>\n",
       "    </tr>\n",
       "    <tr>\n",
       "      <th>1</th>\n",
       "      <td>5575-GNVDE</td>\n",
       "      <td>Male</td>\n",
       "      <td>0.0</td>\n",
       "      <td>No</td>\n",
       "      <td>No</td>\n",
       "      <td>34.0</td>\n",
       "      <td>Yes</td>\n",
       "      <td>No</td>\n",
       "      <td>DSL</td>\n",
       "      <td>Yes</td>\n",
       "      <td>...</td>\n",
       "      <td>Yes</td>\n",
       "      <td>No</td>\n",
       "      <td>No</td>\n",
       "      <td>No</td>\n",
       "      <td>One year</td>\n",
       "      <td>No</td>\n",
       "      <td>Mailed check</td>\n",
       "      <td>56.95</td>\n",
       "      <td>1889.5</td>\n",
       "      <td>No</td>\n",
       "    </tr>\n",
       "    <tr>\n",
       "      <th>2</th>\n",
       "      <td>3668-QPYBK</td>\n",
       "      <td>Male</td>\n",
       "      <td>0.0</td>\n",
       "      <td>No</td>\n",
       "      <td>No</td>\n",
       "      <td>2.0</td>\n",
       "      <td>Yes</td>\n",
       "      <td>No</td>\n",
       "      <td>DSL</td>\n",
       "      <td>Yes</td>\n",
       "      <td>...</td>\n",
       "      <td>No</td>\n",
       "      <td>No</td>\n",
       "      <td>No</td>\n",
       "      <td>No</td>\n",
       "      <td>Month-to-month</td>\n",
       "      <td>Yes</td>\n",
       "      <td>Mailed check</td>\n",
       "      <td>53.85</td>\n",
       "      <td>108.15</td>\n",
       "      <td>Yes</td>\n",
       "    </tr>\n",
       "    <tr>\n",
       "      <th>3</th>\n",
       "      <td>7795-CFOCW</td>\n",
       "      <td>Male</td>\n",
       "      <td>0.0</td>\n",
       "      <td>No</td>\n",
       "      <td>No</td>\n",
       "      <td>45.0</td>\n",
       "      <td>No</td>\n",
       "      <td>No phone service</td>\n",
       "      <td>NaN</td>\n",
       "      <td>Yes</td>\n",
       "      <td>...</td>\n",
       "      <td>Yes</td>\n",
       "      <td>Yes</td>\n",
       "      <td>No</td>\n",
       "      <td>No</td>\n",
       "      <td>One year</td>\n",
       "      <td>No</td>\n",
       "      <td>Bank transfer (automatic)</td>\n",
       "      <td>42.30</td>\n",
       "      <td>1840.75</td>\n",
       "      <td>No</td>\n",
       "    </tr>\n",
       "    <tr>\n",
       "      <th>4</th>\n",
       "      <td>9237-HQITU</td>\n",
       "      <td>Female</td>\n",
       "      <td>0.0</td>\n",
       "      <td>No</td>\n",
       "      <td>No</td>\n",
       "      <td>2.0</td>\n",
       "      <td>Yes</td>\n",
       "      <td>No</td>\n",
       "      <td>NaN</td>\n",
       "      <td>No</td>\n",
       "      <td>...</td>\n",
       "      <td>No</td>\n",
       "      <td>No</td>\n",
       "      <td>No</td>\n",
       "      <td>No</td>\n",
       "      <td>Month-to-month</td>\n",
       "      <td>Yes</td>\n",
       "      <td>Electronic check</td>\n",
       "      <td>70.70</td>\n",
       "      <td>151.65</td>\n",
       "      <td>Yes</td>\n",
       "    </tr>\n",
       "  </tbody>\n",
       "</table>\n",
       "<p>5 rows × 21 columns</p>\n",
       "</div>"
      ],
      "text/plain": [
       "   customerID  gender  SeniorCitizen Partner Dependents  tenure PhoneService  \\\n",
       "0  7590-VHVEG  Female            0.0     Yes         No     1.0           No   \n",
       "1  5575-GNVDE    Male            0.0      No         No    34.0          Yes   \n",
       "2  3668-QPYBK    Male            0.0      No         No     2.0          Yes   \n",
       "3  7795-CFOCW    Male            0.0      No         No    45.0           No   \n",
       "4  9237-HQITU  Female            0.0      No         No     2.0          Yes   \n",
       "\n",
       "      MultipleLines InternetService OnlineSecurity  ... DeviceProtection  \\\n",
       "0               NaN             DSL             No  ...               No   \n",
       "1                No             DSL            Yes  ...              Yes   \n",
       "2                No             DSL            Yes  ...               No   \n",
       "3  No phone service             NaN            Yes  ...              Yes   \n",
       "4                No             NaN             No  ...               No   \n",
       "\n",
       "  TechSupport StreamingTV StreamingMovies        Contract PaperlessBilling  \\\n",
       "0          No          No              No  Month-to-month              Yes   \n",
       "1          No          No              No        One year               No   \n",
       "2          No          No              No  Month-to-month              Yes   \n",
       "3         Yes          No              No        One year               No   \n",
       "4          No          No              No  Month-to-month              Yes   \n",
       "\n",
       "               PaymentMethod MonthlyCharges  TotalCharges Churn  \n",
       "0           Electronic check          29.85         29.85    No  \n",
       "1               Mailed check          56.95        1889.5    No  \n",
       "2               Mailed check          53.85        108.15   Yes  \n",
       "3  Bank transfer (automatic)          42.30       1840.75    No  \n",
       "4           Electronic check          70.70        151.65   Yes  \n",
       "\n",
       "[5 rows x 21 columns]"
      ]
     },
     "execution_count": 3,
     "metadata": {},
     "output_type": "execute_result"
    }
   ],
   "source": [
    "data.head()"
   ]
  },
  {
   "cell_type": "code",
   "execution_count": 4,
   "id": "f47498c1",
   "metadata": {},
   "outputs": [
    {
     "data": {
      "text/plain": [
       "(7043, 21)"
      ]
     },
     "execution_count": 4,
     "metadata": {},
     "output_type": "execute_result"
    }
   ],
   "source": [
    "data.shape"
   ]
  },
  {
   "cell_type": "code",
   "execution_count": 5,
   "id": "5bca2baf",
   "metadata": {},
   "outputs": [
    {
     "name": "stdout",
     "output_type": "stream",
     "text": [
      "<class 'pandas.core.frame.DataFrame'>\n",
      "RangeIndex: 7043 entries, 0 to 7042\n",
      "Data columns (total 21 columns):\n",
      " #   Column            Non-Null Count  Dtype  \n",
      "---  ------            --------------  -----  \n",
      " 0   customerID        7043 non-null   object \n",
      " 1   gender            6950 non-null   object \n",
      " 2   SeniorCitizen     6891 non-null   float64\n",
      " 3   Partner           6798 non-null   object \n",
      " 4   Dependents        6780 non-null   object \n",
      " 5   tenure            6823 non-null   float64\n",
      " 6   PhoneService      6726 non-null   object \n",
      " 7   MultipleLines     6641 non-null   object \n",
      " 8   InternetService   6731 non-null   object \n",
      " 9   OnlineSecurity    6692 non-null   object \n",
      " 10  OnlineBackup      6673 non-null   object \n",
      " 11  DeviceProtection  6812 non-null   object \n",
      " 12  TechSupport       6644 non-null   object \n",
      " 13  StreamingTV       6630 non-null   object \n",
      " 14  StreamingMovies   6573 non-null   object \n",
      " 15  Contract          6878 non-null   object \n",
      " 16  PaperlessBilling  6736 non-null   object \n",
      " 17  PaymentMethod     6940 non-null   object \n",
      " 18  MonthlyCharges    7043 non-null   float64\n",
      " 19  TotalCharges      7043 non-null   object \n",
      " 20  Churn             7043 non-null   object \n",
      "dtypes: float64(3), object(18)\n",
      "memory usage: 1.1+ MB\n"
     ]
    }
   ],
   "source": [
    "data.info()"
   ]
  },
  {
   "cell_type": "markdown",
   "id": "45c2a944",
   "metadata": {},
   "source": [
    "#### Eliminación y codificación de variables"
   ]
  },
  {
   "cell_type": "markdown",
   "id": "0841e9d3",
   "metadata": {},
   "source": [
    "Obsevamos que en nuestro conjunto de datos tenemos una columna llamada \"customerID\", el cuál es un conjunto de números y letras que hacen referencia al ID del cliente, debido a que no es una variable relevante para nuestro estudio y construcción del modelo predictivo, se procederá a eliminarla."
   ]
  },
  {
   "cell_type": "code",
   "execution_count": 6,
   "id": "5c1c0e92",
   "metadata": {},
   "outputs": [],
   "source": [
    "data = data.drop(['customerID'], axis=1)"
   ]
  },
  {
   "cell_type": "markdown",
   "id": "6ae70690",
   "metadata": {},
   "source": [
    "También se observa que algunas variables estan etiquetadas incorrectamente con un tipo de dato que no les corresponde, como en el caso de \"SeniorCitizen\":float y \"TotalCharges\":object, es por ello que se procederá a convertirlas al tipo de dato correcto."
   ]
  },
  {
   "cell_type": "code",
   "execution_count": 7,
   "id": "814a05a1",
   "metadata": {},
   "outputs": [],
   "source": [
    "# Conversión de la columna \"SeniorCitizen\" a object\n",
    "data = data.astype({\"SeniorCitizen\":object})"
   ]
  },
  {
   "cell_type": "code",
   "execution_count": 8,
   "id": "b8b17262",
   "metadata": {},
   "outputs": [],
   "source": [
    "# Conversión de la columna \"TotalCharges\" a float\n",
    "data[\"TotalCharges\"] = pd.to_numeric(data[\"TotalCharges\"], errors=\"coerce\")"
   ]
  },
  {
   "cell_type": "code",
   "execution_count": 9,
   "id": "5ab7243e",
   "metadata": {},
   "outputs": [
    {
     "name": "stdout",
     "output_type": "stream",
     "text": [
      "<class 'pandas.core.frame.DataFrame'>\n",
      "RangeIndex: 7043 entries, 0 to 7042\n",
      "Data columns (total 20 columns):\n",
      " #   Column            Non-Null Count  Dtype  \n",
      "---  ------            --------------  -----  \n",
      " 0   gender            6950 non-null   object \n",
      " 1   SeniorCitizen     6891 non-null   object \n",
      " 2   Partner           6798 non-null   object \n",
      " 3   Dependents        6780 non-null   object \n",
      " 4   tenure            6823 non-null   float64\n",
      " 5   PhoneService      6726 non-null   object \n",
      " 6   MultipleLines     6641 non-null   object \n",
      " 7   InternetService   6731 non-null   object \n",
      " 8   OnlineSecurity    6692 non-null   object \n",
      " 9   OnlineBackup      6673 non-null   object \n",
      " 10  DeviceProtection  6812 non-null   object \n",
      " 11  TechSupport       6644 non-null   object \n",
      " 12  StreamingTV       6630 non-null   object \n",
      " 13  StreamingMovies   6573 non-null   object \n",
      " 14  Contract          6878 non-null   object \n",
      " 15  PaperlessBilling  6736 non-null   object \n",
      " 16  PaymentMethod     6940 non-null   object \n",
      " 17  MonthlyCharges    7043 non-null   float64\n",
      " 18  TotalCharges      7032 non-null   float64\n",
      " 19  Churn             7043 non-null   object \n",
      "dtypes: float64(3), object(17)\n",
      "memory usage: 1.1+ MB\n"
     ]
    }
   ],
   "source": [
    "data.info()"
   ]
  },
  {
   "cell_type": "markdown",
   "id": "0486c59d",
   "metadata": {},
   "source": [
    "Ahora podemos observar que cada variable esta codificada con el tipo de dato que le corresponde"
   ]
  },
  {
   "cell_type": "markdown",
   "id": "0cc82442",
   "metadata": {},
   "source": [
    "---"
   ]
  },
  {
   "cell_type": "markdown",
   "id": "fca2d61c",
   "metadata": {},
   "source": [
    "## 4. Preprocesamiento de datos"
   ]
  },
  {
   "cell_type": "markdown",
   "id": "532b2f9e",
   "metadata": {},
   "source": [
    "#### Identificación de outliers"
   ]
  },
  {
   "cell_type": "markdown",
   "id": "794afb0c",
   "metadata": {},
   "source": [
    "Mediante un diagrama de caja o bigote identificaremos visualmente si existen outliers en las columnas numéricas de nuestro conjunto de datos a través del rango intercuartílico.\n",
    "\n",
    "Se separarán en dos gráficos, debido a que la variable \"TotalCharges\" posee valores muy altos en comparación con las demas variables, lo cual ocasiona que no se visabilizen bien los gráficos\n"
   ]
  },
  {
   "cell_type": "code",
   "execution_count": 10,
   "id": "3c5b1d6d",
   "metadata": {},
   "outputs": [
    {
     "data": {
      "image/png": "[encoded data removed]",
      "text/plain": [
       "<Figure size 1008x504 with 2 Axes>"
      ]
     },
     "metadata": {
      "needs_background": "light"
     },
     "output_type": "display_data"
    }
   ],
   "source": [
    "fig, ax = plt.subplots(1, 2, figsize=(14,7))\n",
    "sns.boxplot(ax=ax[0], data= data[[\"tenure\", \"MonthlyCharges\"]])\n",
    "sns.boxplot(ax=ax[1], data= data[[\"TotalCharges\"]])\n",
    "plt.show()"
   ]
  },
  {
   "cell_type": "markdown",
   "id": "ff5f7f78",
   "metadata": {},
   "source": [
    "Podemos observar la inexistencia de outliers, por lo que no será necesario tomar medidas al respecto."
   ]
  },
  {
   "cell_type": "markdown",
   "id": "259bae79",
   "metadata": {},
   "source": [
    "#### Identificación e imputación de valores faltantes"
   ]
  },
  {
   "cell_type": "code",
   "execution_count": 11,
   "id": "646354f4",
   "metadata": {},
   "outputs": [
    {
     "data": {
      "text/plain": [
       "4824"
      ]
     },
     "execution_count": 11,
     "metadata": {},
     "output_type": "execute_result"
    }
   ],
   "source": [
    "# Observamos cuantos valores faltantes hay en nuestro conjunto de datos\n",
    "data.isnull().sum().sum()"
   ]
  },
  {
   "cell_type": "code",
   "execution_count": 12,
   "id": "3226bb14",
   "metadata": {},
   "outputs": [
    {
     "data": {
      "text/plain": [
       "gender               93\n",
       "SeniorCitizen       152\n",
       "Partner             245\n",
       "Dependents          263\n",
       "tenure              220\n",
       "PhoneService        317\n",
       "MultipleLines       402\n",
       "InternetService     312\n",
       "OnlineSecurity      351\n",
       "OnlineBackup        370\n",
       "DeviceProtection    231\n",
       "TechSupport         399\n",
       "StreamingTV         413\n",
       "StreamingMovies     470\n",
       "Contract            165\n",
       "PaperlessBilling    307\n",
       "PaymentMethod       103\n",
       "MonthlyCharges        0\n",
       "TotalCharges         11\n",
       "Churn                 0\n",
       "dtype: int64"
      ]
     },
     "execution_count": 12,
     "metadata": {},
     "output_type": "execute_result"
    }
   ],
   "source": [
    "# Observamos cuantos valores faltantes hay en cada variable\n",
    "data.isnull().sum()"
   ]
  },
  {
   "cell_type": "code",
   "execution_count": 13,
   "id": "c6937e56",
   "metadata": {},
   "outputs": [
    {
     "data": {
      "text/plain": [
       "3.6049231413049165"
      ]
     },
     "execution_count": 13,
     "metadata": {},
     "output_type": "execute_result"
    }
   ],
   "source": [
    "# Y observamos el porcentaje de valores faltantes respecto del total de datos\n",
    "data.isnull().sum().sum() / (data.shape[0] * (data.shape[1]-1)) * 100"
   ]
  },
  {
   "cell_type": "markdown",
   "id": "65fb0411",
   "metadata": {},
   "source": [
    "Los resultados nos arrojan un total de 4824 valores nulos de los 133817 que cuenta el conjunto de datos, estos valores nulos suponen un 3,6% del total de datos. Obtenida esta informacion, procederemos a imputarlos mediante el uso de algoritmos de regresión, técnica conocida con el nombre de imputación simple e imputación iterativa.\n",
    "\n",
    "Para ello empezaremos a dividir nuestro conjunto de datos en tres grupos, el primero de variables numéricas, el segundo de variables categóricas y el último de la variable de salida, ya que las técnicas de imputacion para los dos primeros conjuntos seran distintas, y el tercer conjunto lo excluimos de la imputación puesto que nuestra variable de salida no puede influir en este proceso."
   ]
  },
  {
   "cell_type": "code",
   "execution_count": 14,
   "id": "a824965a",
   "metadata": {},
   "outputs": [],
   "source": [
    "numericas = data.iloc[:, [4,17,18]]\n",
    "categoricas = data.iloc[:, [0,1,2,3,5,6,7,8,9,10,11,12,13,14,15,16]]\n",
    "salida = data.iloc[:, -1]"
   ]
  },
  {
   "cell_type": "markdown",
   "id": "3541e04e",
   "metadata": {},
   "source": [
    "Extraeremos los nombres tanto de nuestras variables categóricas como numéricas, ya que en el proceso de imputación estos nombres seran eliminados."
   ]
  },
  {
   "cell_type": "code",
   "execution_count": 15,
   "id": "12d0af03",
   "metadata": {},
   "outputs": [],
   "source": [
    "col_numericas = numericas.columns.values\n",
    "col_categoricas = categoricas.columns.values"
   ]
  },
  {
   "cell_type": "markdown",
   "id": "a60c5818",
   "metadata": {},
   "source": [
    "Empezaremos imputando nuestras variables categóricas mediante un imputador simple utilizando la técnica de reemplazar por el mas frecuente, es decir, la moda."
   ]
  },
  {
   "cell_type": "code",
   "execution_count": 16,
   "id": "b10a5802",
   "metadata": {},
   "outputs": [],
   "source": [
    "imputer_categorico = SimpleImputer(strategy='most_frequent')\n",
    "imputer_categorico.fit(categoricas)\n",
    "categoricas = imputer_categorico.transform(categoricas)"
   ]
  },
  {
   "cell_type": "markdown",
   "id": "bd983fa2",
   "metadata": {},
   "source": [
    "Y ahora le regresaremos el formato original en el que se encontraba en nuestro conjunto de datos"
   ]
  },
  {
   "cell_type": "code",
   "execution_count": 17,
   "id": "b3605730",
   "metadata": {},
   "outputs": [],
   "source": [
    "categoricas = pd.DataFrame(categoricas)\n",
    "categoricas.columns = col_categoricas"
   ]
  },
  {
   "cell_type": "markdown",
   "id": "76cc965b",
   "metadata": {},
   "source": [
    "Proseguiremos imputando nuestras variables numéricas mediante un imputador iterativo, utilizando el algoritmo de los bosques aleatorios de regresión para estimar los valores faltantes en base a los valores no faltantes de las demás variables. Cabe mencionar que no es necesario escalar nuestros datos numéricos cuando utilizamos un algoritmo Random Forest."
   ]
  },
  {
   "cell_type": "code",
   "execution_count": 18,
   "id": "cf086fa2",
   "metadata": {},
   "outputs": [],
   "source": [
    "imputer_numerico = IterativeImputer(estimator=RandomForestRegressor())\n",
    "imputer_numerico.fit(numericas)\n",
    "numericas = imputer_numerico.transform(numericas)"
   ]
  },
  {
   "cell_type": "markdown",
   "id": "baa2bd62",
   "metadata": {},
   "source": [
    "Como hicimos con el conjunto anterior, le regresamos el formato original"
   ]
  },
  {
   "cell_type": "code",
   "execution_count": 19,
   "id": "b9ebb3c7",
   "metadata": {},
   "outputs": [],
   "source": [
    "numericas = pd.DataFrame(numericas)\n",
    "numericas.columns = col_numericas"
   ]
  },
  {
   "cell_type": "markdown",
   "id": "ee2fb7f8",
   "metadata": {},
   "source": [
    "Y redondeamos los decimales para tener el mismo formato númerico de los datos originiales"
   ]
  },
  {
   "cell_type": "code",
   "execution_count": 20,
   "id": "c8b34a1d",
   "metadata": {},
   "outputs": [],
   "source": [
    "numericas[\"tenure\"] = numericas[\"tenure\"].round()"
   ]
  },
  {
   "cell_type": "markdown",
   "id": "53753170",
   "metadata": {},
   "source": [
    "Transformamos también la variable de salida a su formato original"
   ]
  },
  {
   "cell_type": "code",
   "execution_count": 21,
   "id": "ad290de2",
   "metadata": {},
   "outputs": [],
   "source": [
    "salida = pd.DataFrame(salida)"
   ]
  },
  {
   "cell_type": "markdown",
   "id": "73b97e20",
   "metadata": {},
   "source": [
    "Por último, unimos los tres conjuntos de datos para tener un solo DataFrame como al inicio de la sección"
   ]
  },
  {
   "cell_type": "code",
   "execution_count": 22,
   "id": "79e2575e",
   "metadata": {},
   "outputs": [],
   "source": [
    "data = pd.concat([categoricas, numericas, salida], axis=1)"
   ]
  },
  {
   "cell_type": "markdown",
   "id": "bdc86e48",
   "metadata": {},
   "source": [
    "##### Comprobamos nuevamente si existen valores faltantes"
   ]
  },
  {
   "cell_type": "code",
   "execution_count": 23,
   "id": "a6ec9177",
   "metadata": {},
   "outputs": [
    {
     "data": {
      "text/plain": [
       "0"
      ]
     },
     "execution_count": 23,
     "metadata": {},
     "output_type": "execute_result"
    }
   ],
   "source": [
    "data.isnull().sum().sum()"
   ]
  },
  {
   "cell_type": "code",
   "execution_count": 24,
   "id": "ce87304d",
   "metadata": {},
   "outputs": [
    {
     "data": {
      "text/plain": [
       "gender              0\n",
       "SeniorCitizen       0\n",
       "Partner             0\n",
       "Dependents          0\n",
       "PhoneService        0\n",
       "MultipleLines       0\n",
       "InternetService     0\n",
       "OnlineSecurity      0\n",
       "OnlineBackup        0\n",
       "DeviceProtection    0\n",
       "TechSupport         0\n",
       "StreamingTV         0\n",
       "StreamingMovies     0\n",
       "Contract            0\n",
       "PaperlessBilling    0\n",
       "PaymentMethod       0\n",
       "tenure              0\n",
       "MonthlyCharges      0\n",
       "TotalCharges        0\n",
       "Churn               0\n",
       "dtype: int64"
      ]
     },
     "execution_count": 24,
     "metadata": {},
     "output_type": "execute_result"
    }
   ],
   "source": [
    "data.isnull().sum()"
   ]
  },
  {
   "cell_type": "markdown",
   "id": "fc0233c6",
   "metadata": {},
   "source": [
    "Y ahora observamos que los métodos utilizados imputaron de forma satisfactoria los valores faltantes."
   ]
  },
  {
   "cell_type": "markdown",
   "id": "d5162301",
   "metadata": {},
   "source": [
    "---"
   ]
  },
  {
   "cell_type": "markdown",
   "id": "b7a93075",
   "metadata": {},
   "source": [
    "## 5. Análisis y visualización de datos"
   ]
  },
  {
   "cell_type": "markdown",
   "id": "a15319f7",
   "metadata": {},
   "source": [
    "En base a las variables que tenemos disponible empezaremos la sección formulando algunas hipótesis que seran respondidas mediante el proceso de análisis de los datos.\n"
   ]
  },
  {
   "cell_type": "markdown",
   "id": "abc526af",
   "metadata": {},
   "source": [
    "* H1: ¿El género del cliente propicia la deserción de los servicios de la empresa?\n",
    "* H2: ¿Son los clientes de la tercera edad mas propensos a desertar?\n",
    "* H3: ¿Los clientes sin pareja son mas propensos a permanecer en la empresa?\n",
    "* H4: ¿Si el cliente no vive con personas dependientes tiene mas probabilidades de abandonar la empresa?\n",
    "* H5: ¿Es más probable que los clientes que no tienen servicio telefónico abandonen la empresa?\n",
    "* H6: ¿Los clientes con múltiples lineas telefónicas son más propensos a permanecer en la empresa?\n",
    "* H7: ¿Es más probable que los clientes abandonen la empresa si no tienen conexión a internet?\n",
    "* H8: ¿Los clientes sin servicio de seguridad en línea tienden a abandonar la empresa?\n",
    "* H9: ¿Los clientes sin servicio de copia de seguridad en línea tienden a abandonar la empresa?\n",
    "* H10: ¿Los clientes sin servicio de protección de dispositivos tienden a abandonar la empresa?\n",
    "* H11: ¿Los clientes sin servicio de soporte técnico tienden a abandonar la empresa?\n",
    "* H12: ¿Los clientes sin servicio de transmisión televisiva tienden a abandonar la empresa?\n",
    "* H13: ¿Los clientes sin servicio de transmisión de películas tienden a abandonar la empresa?\n",
    "* H14: ¿Los clientes con mayor cantidad de meses en la empresa son más propensos a seguir permaneciendo en ella?\n",
    "* H15: ¿Los clientes con poca cantidad de dinero mensual a pagar son más propensos a permanecer en la empresa?\n",
    "* H16: ¿Los clientes con poca cantidad de dinero total a pagar son más propensos a permanecer en la empresa?\n",
    "* H17: ¿El el tipo de contrato elegido por el cliente un factor que indique su deserción de la empresa?\n",
    "* H18: ¿Los clientes que eligen facturación electrónica son más propensos a abandonar la empresa?\n",
    "* H19: ¿Existe algún método de pago en particular preferido por los clientes desertores?\n"
   ]
  },
  {
   "cell_type": "markdown",
   "id": "4e2b4f87",
   "metadata": {},
   "source": [
    "Para comenzar, visualizaremos la distribución de los datos respecto a cada uno de los tres conjuntos de\n",
    "variables que se han identificado: Variables de información del cliente - Variables de servicio - Variables de contrato. Esta segmentación nos permitirá realizar un análisis mas ordenado e identificar patrones e información util para entender nuestros datos."
   ]
  },
  {
   "cell_type": "markdown",
   "id": "c07d9056",
   "metadata": {},
   "source": [
    "#### Variables de información del cliente"
   ]
  },
  {
   "cell_type": "code",
   "execution_count": 57,
   "id": "ad51e68c",
   "metadata": {},
   "outputs": [
    {
     "data": {
      "image/png": "[encoded data removed]",
      "text/plain": [
       "<Figure size 1152x576 with 4 Axes>"
      ]
     },
     "metadata": {
      "needs_background": "light"
     },
     "output_type": "display_data"
    }
   ],
   "source": [
    "fig, ax = plt.subplots(2, 2, figsize=(16, 8))\n",
    "plt.subplots_adjust(wspace=0.2, hspace=0.3)\n",
    "sns.countplot(data=data, x=\"gender\", ax=ax[0,0])\n",
    "ax[0,0].set_title(\"Gender\")\n",
    "ax[0,0].set_xlabel(\"\")\n",
    "sns.countplot(data=data, x=\"SeniorCitizen\", ax=ax[0,1])\n",
    "ax[0,1].set_title(\"SeniorCitizen\")\n",
    "ax[0,1].set_xlabel(\"\")\n",
    "sns.countplot(data=data, x=\"Partner\", ax=ax[1,0])\n",
    "ax[1,0].set_title(\"Partner\")\n",
    "ax[1,0].set_xlabel(\"\")\n",
    "sns.countplot(data=data, x=\"Dependents\", ax=ax[1,1])\n",
    "ax[1,1].set_title(\"Dependents\")\n",
    "ax[1,1].set_xlabel(\"\")\n",
    "fig.suptitle('Distribución de las variables de información del cliente', fontsize=16)\n",
    "plt.show()"
   ]
  },
  {
   "cell_type": "markdown",
   "id": "c70a9330",
   "metadata": {},
   "source": [
    "Observamos que tenemos una distribución equitativa en nuestras variables \"gender\" y \"Partner\", lo cual nos indica que ningún género predomina sobre el otro en la empresa, a la vez que hay tantas personas con pareja como sin pareja."
   ]
  },
  {
   "cell_type": "markdown",
   "id": "d942f7c9",
   "metadata": {},
   "source": [
    "Por otro lado observamos que predominan más las personas menores de 65 años, y que la mayoría de ellos no viven con personas dependientes."
   ]
  },
  {
   "cell_type": "markdown",
   "id": "43b6e34c",
   "metadata": {},
   "source": [
    "#### Variables de servicio"
   ]
  },
  {
   "cell_type": "code",
   "execution_count": 55,
   "id": "ecc2cf6f",
   "metadata": {},
   "outputs": [
    {
     "data": {
      "image/png": "[encoded data removed]",
      "text/plain": [
       "<Figure size 1152x864 with 9 Axes>"
      ]
     },
     "metadata": {
      "needs_background": "light"
     },
     "output_type": "display_data"
    }
   ],
   "source": [
    "fig, ax = plt.subplots(3, 3, figsize=(16, 12))\n",
    "plt.subplots_adjust(wspace=0.3, hspace=0.3)\n",
    "sns.countplot(data=data, x=\"PhoneService\", ax=ax[0,0])\n",
    "ax[0,0].set_title(\"PhoneService\")\n",
    "ax[0,0].set_xlabel(\"\")\n",
    "sns.countplot(data=data, x=\"MultipleLines\", ax=ax[0,1])\n",
    "ax[0,1].set_title(\"MultipleLines\")\n",
    "ax[0,1].set_xlabel(\"\")\n",
    "sns.countplot(data=data, x=\"InternetService\", ax=ax[0,2])\n",
    "ax[0,2].set_title(\"InternetService\")\n",
    "ax[0,2].set_xlabel(\"\")\n",
    "sns.countplot(data=data, x=\"OnlineSecurity\", ax=ax[1,0])\n",
    "ax[1,0].set_title(\"OnlineSecurity\")\n",
    "ax[1,0].set_xlabel(\"\")\n",
    "sns.countplot(data=data, x=\"OnlineBackup\", ax=ax[1,1])\n",
    "ax[1,1].set_title(\"OnlineBackup\")\n",
    "ax[1,1].set_xlabel(\"\")\n",
    "sns.countplot(data=data, x=\"DeviceProtection\", ax=ax[1,2])\n",
    "ax[1,2].set_title(\"DeviceProtection\")\n",
    "ax[1,2].set_xlabel(\"\")\n",
    "sns.countplot(data=data, x=\"TechSupport\", ax=ax[2,0])\n",
    "ax[2,0].set_title(\"TechSupport\")\n",
    "ax[2,0].set_xlabel(\"\")\n",
    "sns.countplot(data=data, x=\"StreamingTV\", ax=ax[2,1])\n",
    "ax[2,1].set_title(\"StreamingTV\")\n",
    "ax[2,1].set_xlabel(\"\")\n",
    "sns.countplot(data=data, x=\"StreamingMovies\", ax=ax[2,2])\n",
    "ax[2,2].set_title(\"StreamingMovies\")\n",
    "ax[2,2].set_xlabel(\"\")\n",
    "fig.suptitle('Distribución de las variables de servicio', fontsize=16)\n",
    "plt.show()"
   ]
  },
  {
   "cell_type": "markdown",
   "id": "199f24a8",
   "metadata": {},
   "source": [
    "De los resultados obtenimos podemos indicar lo siguiente:"
   ]
  },
  {
   "cell_type": "markdown",
   "id": "99ea29f7",
   "metadata": {},
   "source": [
    "* Existe una inmensa mayoría de clientes que han adquirido los servicios de telefonía de la empresa, lo cual nos indica que es el servicio más demandado y básico que ofrece la compañía.\n",
    "\n",
    "* Hay una distribución relativamente equitativa entre el número de clientes que tiene múltiples líneas y no, lo cual es común puesto que es un servicio opcional.\n",
    "\n",
    "* La mayoria de los usuarios prefiere una conexión de fibra óptica como servicio de internet, ya que esta es mucho más rápida y de calidad que otros tipos de conexión convencionales.\n",
    "\n",
    "* Observamos una tendencia de los usuarios a no contar con los servicios de seguridad que ofrece la empresa, podemos suponer múltiples razones, desde una mala calidad en estos servicios hasta costos elevados en la mensualidad por adquirirlos.\n",
    "\n",
    "* Por último, observamos que existe una ligera diferencia entre la cantidad de clientes que eligen adquirir servicios de transmisión de TV a través de su servicio de internet y los que no lo hacen."
   ]
  },
  {
   "cell_type": "markdown",
   "id": "603b14e4",
   "metadata": {},
   "source": [
    "#### Variables de contrato"
   ]
  },
  {
   "cell_type": "code",
   "execution_count": 74,
   "id": "bf3affd8",
   "metadata": {},
   "outputs": [
    {
     "data": {
      "text/plain": [
       "Text(0.5, 0.98, 'Distribución de las variables de contrato')"
      ]
     },
     "execution_count": 74,
     "metadata": {},
     "output_type": "execute_result"
    },
    {
     "data": {
      "image/png": "[encoded data removed]",
      "text/plain": [
       "<Figure size 1152x288 with 3 Axes>"
      ]
     },
     "metadata": {
      "needs_background": "light"
     },
     "output_type": "display_data"
    }
   ],
   "source": [
    "fig, ax = plt.subplots(1, 3, figsize=(16, 4))\n",
    "plt.subplots_adjust(wspace=0.3, top=0.75)\n",
    "sns.histplot(data=data, x=\"tenure\", kde=True, ax=ax[0])\n",
    "ax[0].set_title(\"Tenure\")\n",
    "ax[0].set_xlabel(\"\")\n",
    "sns.histplot(data=data, x=\"MonthlyCharges\", kde=True, ax=ax[1])\n",
    "ax[1].set_title(\"MonthlyCharges\")\n",
    "ax[1].set_xlabel(\"\")\n",
    "sns.histplot(data=data, x=\"TotalCharges\", kde=True, ax=ax[2])\n",
    "ax[2].set_title(\"TotalCharges\")\n",
    "ax[2].set_xlabel(\"\")\n",
    "fig.suptitle('Distribución de las variables de contrato', fontsize=16)"
   ]
  },
  {
   "cell_type": "markdown",
   "id": "e9891907",
   "metadata": {},
   "source": [
    "De estos resultados se extrae la siguiente información:"
   ]
  },
  {
   "cell_type": "markdown",
   "id": "10d274b9",
   "metadata": {},
   "source": [
    "* Existen dos grandes picos en la distribución que muestra la cantidad de meses que el cliente a permanecido en la empresa al finalizar el trimestre, siendo estos los que han permanecido en un rango menor a 5 meses, y los que han permanecido en un rango mayor a 65 meses, lo que significa que la empresa cuenta con tantos clientes fieles como nuevos en la adquisición de sus servicios.\n",
    "\n",
    "* Por otra parte, observamos que la variable de los cargos mensuales \"MonthlyCharges\" presenta 3 picos notables, siendo el mayor de estos los que tienen cargos mensuales alrededor de 20 dólares, seguido de otro con alrededor de 80 dólares, y por ultimo, uno con alrededor de 50 dólares. Esto quiere decir que tenemos una cantidad considerable de clientes que prefieren los contratos con poca mensualidad a pagar (los cuales probablemente incluyan menos servicios). \n",
    "\n",
    "* La variable de los cargos totales \"TotalCharges\" presenta una distribución de cola en donde el único pico que presenta es en los cargos con poca cantidad de dólares a pagar por los clientes, lo cual guarda relación con los anteriores gráficos donde vimos que existe una gran cantidad de clientes con pocos meses en la empresa y con cargos mensuales bajos."
   ]
  },
  {
   "cell_type": "code",
   "execution_count": 86,
   "id": "ed0e5a86",
   "metadata": {},
   "outputs": [
    {
     "data": {
      "image/png": "[encoded data removed]",
      "text/plain": [
       "<Figure size 1152x288 with 2 Axes>"
      ]
     },
     "metadata": {
      "needs_background": "light"
     },
     "output_type": "display_data"
    },
    {
     "data": {
      "image/png": "[encoded data removed]",
      "text/plain": [
       "<Figure size 1152x288 with 1 Axes>"
      ]
     },
     "metadata": {
      "needs_background": "light"
     },
     "output_type": "display_data"
    }
   ],
   "source": [
    "fig, ax = plt.subplots(1, 2, figsize=(16, 4))\n",
    "plt.subplots_adjust(wspace=0.3)\n",
    "sns.countplot(data=data, x=\"Contract\", ax=ax[0])\n",
    "ax[0].set_title(\"Contract\")\n",
    "ax[0].set_xlabel(\"\")\n",
    "sns.countplot(data=data, x=\"PaperlessBilling\", ax=ax[1])\n",
    "ax[1].set_title(\"PaperlessBilling\")\n",
    "ax[1].set_xlabel(\"\")\n",
    "fig, ax = plt.subplots(1, 1, figsize=(16, 4))\n",
    "sns.countplot(data=data, y=\"PaymentMethod\")\n",
    "ax.set_title(\"PaymentMethod\")\n",
    "ax.set_ylabel(\"\")\n",
    "plt.show()"
   ]
  },
  {
   "cell_type": "markdown",
   "id": "eb097ff7",
   "metadata": {},
   "source": [
    "* Observamos que el contrato preferido por los clientes es el de \"Month to month\", el cual es el más corto de todos, lo cual guarda cierta relación con el gráfico anterior donde vimos que había una gran cantidad de clientes con pocos meses de permanencia en la empresa.\n",
    "\n",
    "* Por otra parte, observamos que los usuarios de la empresa mayormente prefieren facturación electronica.\n",
    "\n",
    "* Por ultimo, observamos que la mayoría de clientes prefiere el método de pago con cheque electrónico, la distribución de los demas metodos se mantiene de forma equitativa entre ellos."
   ]
  },
  {
   "cell_type": "markdown",
   "id": "1a1c930f",
   "metadata": {},
   "source": [
    "Una vez conocida la distribución de las variables con las que vamos a trabajar, procederemos a responder las hipótesis que inicialmente habíamos planteado, esto lo lograremos mediante un análisis bivariado de nuestras variables de entrada con nuestra variable de salida."
   ]
  },
  {
   "cell_type": "code",
   "execution_count": null,
   "id": "fb9babaa",
   "metadata": {},
   "outputs": [],
   "source": []
  }
 ],
 "metadata": {
  "kernelspec": {
   "display_name": "Python 3",
   "language": "python",
   "name": "python3"
  },
  "language_info": {
   "codemirror_mode": {
    "name": "ipython",
    "version": 3
   },
   "file_extension": ".py",
   "mimetype": "text/x-python",
   "name": "python",
   "nbconvert_exporter": "python",
   "pygments_lexer": "ipython3",
   "version": "3.8.8"
  }
 },
 "nbformat": 4,
 "nbformat_minor": 5
}
